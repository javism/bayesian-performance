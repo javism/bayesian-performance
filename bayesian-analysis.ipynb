{
 "cells": [
  {
   "cell_type": "markdown",
   "metadata": {},
   "source": [
    "# Bayesian analysis of performance metrics \n",
    "\n",
    "This notebook reevaluates the performance of a binary classifier by using the Bayes rule. As an example, we'll use the performance of two lie detectors that are being proposed to perform massive screening of migrants and/or refugees.\n",
    "\n",
    "Although the scientific consensus is that lie detectors do not exist [0], in this post we will not discuss this issue neither we won't discuss assumptions of the methods, experimental validation, etc. Rather we will try to analyze the actual feasibility of the proposed solutions to detect rare events through massive screening of populations using tools with low specificity. \n",
    "\n",
    "## Summary of a test\n",
    "\n",
    "A test is a method to detect events such as cancer, spam, deception, etc. There can be two outcomes of the test for the binary case: *positive* (the test says there is a disease, deception, etc.) and *negative* (the test says there is no disease, lie, etc.). There are four results of a test: \n",
    "- **True positive**: the test says the person lies, and the person lied. \n",
    "- **False positive**: the test says person lies, and actually the person didn't lie.\n",
    "- **True negative**: the test says the person doesn't lie, and they didn't. \n",
    "- **False negative**: the test says the person doesn't lie, and they lied.\n",
    "\n",
    "These outcomes can be represented in the [confusion matrix](https://en.wikipedia.org/wiki/Confusion_matrix), for instance, the reported performance of iBorderCtrl is (see Table IV in [5]): \n",
    "\n",
    "| Test Result\\ Ground Truth | Lie    | no-lie |\n",
    "| ------------------------- | ------ | ------ |\n",
    "| Test positive             | 73.66% | 24.45% |\n",
    "| Test negative             | 26.34% | 75.55% |\n",
    "\n",
    "How we interpret this performance: \n",
    "\n",
    "- If the person lies, there is a 73.66% of chances of having a positive test (true positive) and 26.34% of having a negative test (false negative). \n",
    "- If the person tells the truth, there is a 24.45% of chance the test will be positive (false positive) and 75.55% the test will be negative (true negative). \n",
    "\n",
    "Some notes on tests and probability (adapted from [1]):\n",
    "- **Tests are not the event**. A test for detecting lying is a separate event from actually lying. \n",
    "- **Tests are flawed**. Tests detect things that don’t exist (false positive) and miss things that do exist (false negative). People often use test results without adjusting for test errors.\n",
    "- **Bayes’ theorem** estimates the real probability of an event from the test results.\n"
   ]
  },
  {
   "cell_type": "markdown",
   "metadata": {},
   "source": [
    "## Bayes' Theorem\n",
    "\n",
    "\n",
    "![Bayes Theorem summary](pics/Bayes_Theorem.png)\n",
    "\n",
    "Bayes' Theorem summary. Source <a href=\"https://betterexplained.com/articles/an-intuitive-and-short-explanation-of-bayes-theorem/\">Betterexplained</a>\n",
    "\n",
    "The probability of an event is the number of ways it could happen given all possible outcomes. In our case:\n",
    "\n",
    "\\begin{align}\n",
    "\\text{Probability} &= \\frac{\\text{desired event}}{\\text{all posibilities}} \\\\\n",
    "P(\\text{Lie}\\mid\\text{+}) &= \\frac{P(\\text{+}\\mid\\text{Lie}) P(\\text{Lie})}{P(+)} \\\\\n",
    " &= \\frac{P(\\text{+}\\mid\\text{Lie}) P(\\text{Lie})}{P(\\text{+}\\mid\\text{Lie}) P(\\text{Lie}) + P(\\text{+}\\mid\\text{No-lie}) P(\\text{No-lie})} \n",
    "\\end{align}\n",
    "\n",
    "where:\n",
    "- $P(\\text{Lie}\\mid\\text{+})$ is the probability of having a liar ($\\text{Lie}$) given a positive test ($\\text{+}$), formally the *posterior probability*. \n",
    "- $P(\\text{+}\\mid\\text{Lie})$ is the chance of having a positive test ($\\text{+}$) when the person is lying $(\\text{Lie}$). This is the chance of true positive (73.66% in our example).\n",
    "- $P(Lie)$ is the chance of having of persons that would lie in an interview, formally *prior probability*. It can be also referred to as *frequency* or *prevalence*.\n",
    "- $P(No-lie)$ is the chance of having a person that is telling the truth ($P(No-lie)=1-P(Lie)$). \n",
    "- $P(\\text{+}\\mid\\text{No-lie})$ is the chance of having a positive test ($\\text{+}$) when the person is not lying $(\\text{No-lie}$). This is a false positive (24.45% in our example).\n",
    "\n",
    "The posterior probability is also referred to as **positive predictive value** (PPV) and it answers the question: **provided we have a positive test, what is the probability the person is lying?**\n",
    "\n",
    "Analogously, we can use the rule to calculate the **negative predictive value** (NPV): \n",
    "\n",
    "\\begin{align}\n",
    "P(\\text{No-lie}\\mid\\text{-}) &= \\frac{P(\\text{-}\\mid\\text{No-lie}) P(\\text{No-lie})}{P(\\text{-})} \\\\\n",
    " &= \\frac{P(\\text{-}\\mid\\text{No-lie}) P(\\text{No-lie})}{P(\\text{-}\\mid\\text{No-lie}) P(\\text{No-lie}) + P(\\text{-}\\mid\\text{Lie}) P(\\text{Lie})} \n",
    "\\end{align}\n",
    "\n",
    "where $P(\\text{No-lie}) = 1 - P(\\text{Lie})$. It answers the question **provided we have a negative test, what is the probability the person is telling the truth?**"
   ]
  },
  {
   "cell_type": "markdown",
   "metadata": {},
   "source": [
    "## Formulating hypothesis of scenarios\n",
    "\n",
    "### Correcting the confusion matrix\n",
    "\n",
    "We can use the prevalence or prior probability to update the confusion matrix to estimate the chances of all the four possible results of the test. Assuming $P(Lie)=0.15$:\n",
    "\n",
    "| Test Result\\ Ground Truth | Lie    | No-lie |\n",
    "| ------------------------- | ------ | ------ |\n",
    "| Test positive             | True Pos | False Pos |\n",
    "| Test negative             | False Neg | True Neg |\n",
    "\n",
    "\n",
    "| Test Result\\ Ground Truth | Lie (15%) | No-lie (85%)|\n",
    "| ------------------------- | ------ | ------ |\n",
    "| Test positive             | 0.15x0.7366=<br>0.1105 | 0.85x0.2445=<br>0.2078 |\n",
    "| Test negative             | 0.15x0.2634=<br>0.0395 | 0.85x0.7555=<br>0.6422 |\n",
    "\n",
    "Assuming $P(Lie)=0.01$:\n",
    "\n",
    "| Test Result\\ Ground Truth | Lie (1%) | No-lie (99%)|\n",
    "| ------------------------- | ------ | ------ |\n",
    "| Test positive             | 0.01x0.7366=<br>0.0074 | 0.99x0.2445=<br>0.2421 |\n",
    "| Test negative             | 0.01x0.2634=<br>0.0026 | 0.99x0.7555=<br>0.7479 |\n",
    "\n",
    "In absolute numbers, in a population of 1000 persons with 10 liars (1%), the test will discover 7 liars, but will wrongly label as liars 242 innocent people. In other words, to discover one actual liar the test will wrongly classify 34 people that are actually telling the truth. The test will correctly classify as non-liars 747 people. "
   ]
  },
  {
   "cell_type": "markdown",
   "metadata": {},
   "source": [
    "### Posterior probability\n",
    "$Lie$ is called *hypothesis* whose probability may be affected by data (evidence or test). By varying $P(Lie)$ we can observe the variation of the posterior probability under different hypotheses. For example, we can calculate the *posterior probability* (**positive predictive value**, PPV) with the hypothesis of 15% of liars ($P(Lie)=0.15$) in the population that will be screened:\n",
    "\n",
    "\\begin{align}\n",
    "P(\\text{Liar}\\mid\\text{+}) &= \\frac{0.7366 \\times 0.15}{0.7366 \\times 0.15 + 0.2445 \\times 0.85} \\\\\n",
    "&\\approx 34.71\\%\n",
    "\\end{align}\n",
    "\n",
    "And the expected rate of false positives (**false discovery rate**, FDR): \n",
    "\n",
    "\\begin{align}\n",
    "P(\\text{No-liar}\\mid\\text{+}) &= 1-P(\\text{Liar}\\mid\\text{+})=1-0.3471  \\\\\n",
    "&\\approx 65.29\\%\n",
    "\\end{align}\n",
    "\n",
    "This means that, in a scenario of 15% of liars, 34.71% of positive tests will correspond to actual liars crossing the borders and 65.29% will correspond to false positives. This performance decay that might seem counterintuitive can be explained by the [base rate fallacy](https://en.wikipedia.org/wiki/Base_rate_fallacy).\n",
    "\n",
    "Analogously, we can calculate the **negative predictive value** (NPV) with the Bayes' Theorem:\n",
    "\n",
    "\\begin{align}\n",
    "P(\\text{No-liar}\\mid\\text{-}) &= \\frac{0.7555 \\times 0.85}{0.7555 \\times 0.85 + 0.2445 \\times 0.15} \\\\\n",
    "&\\approx 94.20\\%\\\\\n",
    "\\end{align}\n",
    "\n",
    "And the expected rate of false negatives (**false omission rate**, FOR)): \n",
    "\\begin{align}\n",
    "P(\\text{Liar}\\mid\\text{-}) &= 1-P(\\text{No-liar}\\mid\\text{-})=1-0.9446  \\\\\n",
    "&\\approx 5.79\\%\n",
    "\\end{align}"
   ]
  },
  {
   "cell_type": "markdown",
   "metadata": {},
   "source": [
    "## Python example code\n",
    "\n",
    "We can better observe how the test behaves for different base rates by testing different values of $P(Lie)$.\n",
    "\n",
    "The following code calculates the posterior probability for finding an actual liar given a positive test:"
   ]
  },
  {
   "cell_type": "code",
   "execution_count": 1,
   "metadata": {},
   "outputs": [],
   "source": [
    "import numpy as np\n",
    "import matplotlib.pyplot as plt\n",
    "%matplotlib inline\n",
    "plt.rc('text', usetex=True)\n",
    "\n",
    "# E is the test outcome\n",
    "# H is the hypothesis\n",
    "posterior = lambda PrEH, PrH, PrEnH: (PrEH * PrH) / (PrEH * PrH + PrEnH * (1 - PrH))"
   ]
  },
  {
   "cell_type": "markdown",
   "metadata": {},
   "source": [
    "### iBorderCtlr\n",
    "\n",
    "The [iBorderCtlr](http://iborderctrl.eu/) is an EU funded project to develop a intelligent portable control system for borders. The project features many of the components of smart borders systems (biometrics, document authentication, etc.) but it also performs *risk-scoring* of travelers and *automated deception detection* to evaluate travelers and migrants at the border. \n",
    "\n",
    "We can get $P(\\text{+}\\mid\\text{Lie})$ and $P(\\text{-}\\mid\\text{No-Lie})$ iBorderCtlr last publication [5]:"
   ]
  },
  {
   "cell_type": "code",
   "execution_count": 2,
   "metadata": {},
   "outputs": [
    {
     "name": "stdout",
     "output_type": "stream",
     "text": [
      "PrHE=0.3471089958060412 - PrnHnE=0.9420406786125556\n"
     ]
    }
   ],
   "source": [
    "# Pr(E|H) Chance of a positive test (E) given there is a liar (H). \n",
    "# This is the chance of a true positive. Also sensitivity\n",
    "PrEH = 0.7366\n",
    "# Chance of a positive test (E) given that the person wasn't a lying. \n",
    "# This is the probability of a false positive, also (1-specificity)\n",
    "PrEnH = 0.2445\n",
    "\n",
    "# Test the example\n",
    "PrH = 0.15\n",
    "PrHE = posterior(PrEH, PrH, PrEnH)\n",
    "PrnHnE = posterior( (1-PrEnH), (1-PrH), (1-PrEH) )\n",
    "\n",
    "print('PrHE={} - PrnHnE={}'.format(PrHE, PrnHnE))"
   ]
  },
  {
   "cell_type": "markdown",
   "metadata": {},
   "source": [
    "We can build the posterior probabilities of true positives and true negatives and annotate a specific hypothesis of 10% of people lying to pass the border:"
   ]
  },
  {
   "cell_type": "code",
   "execution_count": 3,
   "metadata": {
    "scrolled": true
   },
   "outputs": [
    {
     "data": {
      "text/plain": [
       "0.10001"
      ]
     },
     "execution_count": 3,
     "metadata": {},
     "output_type": "execute_result"
    },
    {
     "data": {
      "image/png": "[encoded data removed]",
      "text/plain": [
       "<Figure size 432x288 with 1 Axes>"
      ]
     },
     "metadata": {
      "needs_background": "light"
     },
     "output_type": "display_data"
    }
   ],
   "source": [
    "# Let's test different hypotheses\n",
    "vPrH = np.arange(0.00001, 1.0, 0.0001)\n",
    "vfunc = np.vectorize(posterior)\n",
    "\n",
    "# posterior of true positives / positive predictive value\n",
    "vPrHE = vfunc(PrEH, vPrH, PrEnH)\n",
    "# posterior of false positives\n",
    "vPrnHE = 1 - vPrHE \n",
    "\n",
    "# posterior of true negatives / false predictive value\n",
    "# 1-PrEnH = specificity \n",
    "# 1-PrH = prevalence of negative class\n",
    "# 1-PrEH = 1-sensitivity\n",
    "vPrnHnE = vfunc( (1-PrEnH), (1-vPrH), (1-PrEH) )\n",
    "# posterior of false negatives\n",
    "vPrHnE = 1 - vPrnHnE \n",
    "\n",
    "# Plot the two posteriors\n",
    "fig, ax = plt.subplots()\n",
    "ax.plot(vPrH, vPrHE, '-', lw=2, color='tab:blue')\n",
    "ax.plot(vPrH, vPrnHnE, '-', lw=2, color='tab:orange')\n",
    "plt.xlabel(r'$\\displaystyle P(\\textrm{Lie})$')       \n",
    "plt.ylabel(r\"Predictive value\") \n",
    "plt.legend([r\"$\\displaystyle P(\\textrm{Lie}\\mid +)$\", r\"$\\displaystyle P(\\textrm{No-lie}\\mid -)$\"])\n",
    "\n",
    "#plt.title(\"Bayesian evaluation of performance\")\n",
    "\n",
    "i = 1000\n",
    "\n",
    "ax.plot(vPrH[i], vPrHE[i], 'o', lw=2, color='tab:red')\n",
    "ax.plot(vPrH[i], vPrnHnE[i], 'o', lw=2, color='tab:red')\n",
    "\n",
    "ax.annotate('True positives (PPV)={:.3f} \\n False positives (FDR)={:.3f}'.format(vPrHE[i],vPrnHE[i]),\n",
    "            xy=(vPrH[i], vPrHE[i]),\n",
    "            xycoords='data',\n",
    "            xytext=(vPrH[i] + 0.07, vPrHE[i] + 0.05),\n",
    "            textcoords='axes fraction',\n",
    "            horizontalalignment='left',\n",
    "            verticalalignment='top')\n",
    "\n",
    "ax.annotate('True negatives (NPV)={:.3f} \\n False negatives (FOR)={:.3f}'.format(vPrnHnE[i], vPrHnE[i]),\n",
    "            xy=(vPrH[i], vPrnHnE[i]),\n",
    "            xycoords='data',\n",
    "            xytext=(vPrH[i] + 0.07, vPrnHnE[i] - 0.10),\n",
    "            textcoords='axes fraction',\n",
    "            horizontalalignment='left',\n",
    "            verticalalignment='top')\n",
    "vPrH[i]"
   ]
  },
  {
   "cell_type": "markdown",
   "metadata": {},
   "source": [
    "### Thermal analysis to screen refugees \n",
    "\n",
    "Last December the University of Granada published an interview with one of the authors of a system to spot liars based on *the Pinocchio Effect*. The methods use thermography to detect an increase of temperature in the nose of people who are lying while answering a question. The authors propose to use the tool to screen persons at refugee tamps to know \"*what is the real purpose of people trying to cross borders between countries*\" [7]. \n",
    "\n",
    "We can get the TP and FP from the journal publication [6]:\n",
    "\n",
    "- $P(\\text{+}\\mid\\text{Lie})=0.85$\n",
    "- $P(\\text{+}\\mid\\text{Non-lie})=0.25$\n",
    "\n",
    "From the interview we don't have clear what the authors mean with *the real purpose of people* at refugee camps. Let's assume this purpose can be, for instance, to spot terrorists that would be hypothetically hidden in a refugee camp or are trying to enter Europe. So we want to know whether it would be useful to screen all the refugees using a lie detector to spot terrorists. \n",
    "\n",
    "We can calculate the prior of refugees that might be related to terrorism by using the data provided by the conservative think tank 'The Heritage Foundation' which claims, with no sources, that there where 44 refugees or asylum seekers involved in terrorist plots in Europe from 2014 to 2017. Note this is an unrealistic scenario with more people related to terrorism that actually are. In that period, we had 3,915,445 first time asylum applicants in Europe [9]. Then, we have the prior of refugees that during an interview will answer they are not terrorist, but they are: \n",
    "\n",
    "$P(\\text{Lie})=\\frac{44}{3915445}=0.000011$\n",
    "\n",
    "So we can update the relative confusion matrix:\n",
    "\n",
    "| Test Result\\ Ground Truth | Lie (0.0011%) | No-lie (99.9989%)|\n",
    "| ------------------------ | ------ | ------ |\n",
    "| Test positive            | 0.000011x0.85=<br>0.00000935 | 0.999989x0.25=<br>0.24999725 |\n",
    "| Test negative            | 0.000011x0.15=<br>0.00000165 | 0.999989x0.75=<br>0.74999175 |\n",
    "\n",
    "We can build the absolute confusion matrix for the population of ~4 million asylum seekers: \n",
    "\n",
    "| Test Result\\ Ground Truth | Lie | No-lie |\n",
    "| ------------------------ | ------ | ------ |\n",
    "| Test positive            | 36 | 978850 |\n",
    "| Test negative            | 6 | 2936551  |\n",
    "\n",
    "Therefore, to discover one terrorist, ~2719 persons would need to be investigated after been labelled as liars by the system.\n",
    "\n",
    "We can calculate the posterior probabilities of having an actual liar when the thermal analysis test is positive (PPV) and having an person answering the truth when the test is negative (NPV): \n",
    "\n",
    "\\begin{align}\n",
    "P(\\text{Liar}\\mid\\text{+}) &= \\frac{0.85 \\times 0.000011}{0.85 \\times 0.000011 + 0.25 \\times 0.999988} \\\\\n",
    "&\\approx 0.0037\\%\\\\\n",
    "P(\\text{No-liar}\\mid\\text{-}) &= \\frac{0.75 \\times 0.999988}{0.15 \\times 0.000011 + 0.75 \\times 0.999988}  \\\\\n",
    "&\\approx 99.9998\\%\n",
    "\\end{align}\n",
    "\n",
    "In relative numbers, this means that *only 9 terrorists hidden in a population of 1 million will be detected by the lie detector* whereas 249997 innocent people would need to be unnecessarily investigated. "
   ]
  },
  {
   "cell_type": "markdown",
   "metadata": {},
   "source": [
    "We can use the previous code to see how the model performs under different hypotheses (we highlight the case of 0.5% of terrorists, which does not correspond with real frequency)"
   ]
  },
  {
   "cell_type": "code",
   "execution_count": 4,
   "metadata": {},
   "outputs": [
    {
     "data": {
      "text/plain": [
       "0.00501"
      ]
     },
     "execution_count": 4,
     "metadata": {},
     "output_type": "execute_result"
    },
    {
     "data": {
      "text/plain": [
       "<Figure size 432x288 with 0 Axes>"
      ]
     },
     "metadata": {},
     "output_type": "display_data"
    },
    {
     "data": {
      "image/png": "[encoded data removed]",
      "text/plain": [
       "<Figure size 432x288 with 1 Axes>"
      ]
     },
     "metadata": {
      "needs_background": "light"
     },
     "output_type": "display_data"
    }
   ],
   "source": [
    "# Pr(E|H) Chance of a positive test (E) given there is a liar (H). This is the chance of a true positive.\n",
    "PrEH = 0.85\n",
    "# Chance of a positive test (E) given that the person wasn't a lying. This is the probability of a  false positive\n",
    "PrEnH = 0.25\n",
    "\n",
    "# posterior of true positives / positive predictive value\n",
    "vPrHE = vfunc(PrEH, vPrH, PrEnH)\n",
    "# posterior of false positives\n",
    "vPrnHE = 1 - vPrHE \n",
    "# posterior of true negatives / false predictive value\n",
    "vPrnHnE = vfunc( (1-PrEnH), (1-vPrH), (1-PrEH) )\n",
    "# posterior of false negatives\n",
    "vPrHnE = 1 - vPrnHnE \n",
    "\n",
    "# Plot the two posteriors\n",
    "plt.clf()\n",
    "fig, ax = plt.subplots()\n",
    "ax.plot(vPrH, vPrHE, '-', lw=2, color='tab:blue')\n",
    "ax.plot(vPrH, vPrnHnE, '-', lw=2, color='tab:orange')\n",
    "plt.xlabel(r'$\\displaystyle P(\\textrm{Lie})$')       \n",
    "plt.ylabel(r\"Predictive value\") \n",
    "plt.legend([r\"$\\displaystyle P(\\textrm{Lie}\\mid +)$\", r\"$\\displaystyle P(\\textrm{No-lie}\\mid -)$\"],loc='lower right')\n",
    "\n",
    "i = 50\n",
    "\n",
    "ax.plot(vPrH[i], vPrHE[i], 'o', lw=2, color='tab:red')\n",
    "ax.plot(vPrH[i], vPrnHnE[i], 'o', lw=2, color='tab:red')\n",
    "\n",
    "ax.annotate('True positives (PPV)={:.3f} \\n False positives (FDR)={:.3f}'.format(vPrHE[i],vPrnHE[i]),\n",
    "            xy=(vPrH[i], vPrHE[i]),\n",
    "            xycoords='data',\n",
    "            xytext=(vPrH[i] + 0.07, vPrHE[i] + 0.17),\n",
    "            textcoords='axes fraction',\n",
    "            horizontalalignment='left',\n",
    "            verticalalignment='top')\n",
    "\n",
    "ax.annotate('True negatives (NPV)={:.3f} \\n False negatives (FOR)={:.3f}'.format(vPrnHnE[i], vPrHnE[i]),\n",
    "            xy=(vPrH[i], vPrnHnE[i]),\n",
    "            xycoords='data',\n",
    "            xytext=(vPrH[i] + 0.07, vPrnHnE[i] - 0.07),\n",
    "            textcoords='axes fraction',\n",
    "            horizontalalignment='left',\n",
    "            verticalalignment='top')\n",
    "\n",
    "vPrH[i]\n"
   ]
  },
  {
   "cell_type": "markdown",
   "metadata": {},
   "source": [
    "## Decision tree of events\n",
    "\n",
    "To sum up all the concepts we present the decision tree of events of the example of iBorderCtrl to relate the corrected test outcomes and the posterior probabilities.\n",
    "\n",
    "![Decision tree of events](pics/decision-tree.png)\n",
    "\n",
    "\n",
    "## Conclusions\n",
    "\n",
    "- Massive screening of entire populations to look for events through a flawed test is problematic \n",
    "- Performance analysis should be corrected with the prior probability of the event of interest\n",
    "- None of the proposed tests will be able to detect illegalised migrants or terrorists with the so-called lie detectors, even if they really existed \n",
    "- If we assume lie detectors work, terrorists would likely adopt countermeasures, which would decrease the true discovery rate \n",
    "- There is no trade-off between human rights, freedom and privacy and security in the massive screening of a population with flawed tests. No security improvement can be achieved by these means. By forcing migrants and asylum seekers to pass through a test, intended to discover criminals in the public imaginary, these collectives are indeed being criminalised. "
   ]
  },
  {
   "cell_type": "markdown",
   "metadata": {},
   "source": [
    "## References\n",
    "\n",
    "[0] National Research Council. 2003. The Polygraph and Lie Detection. Washington, DC: The National Academies Press. https://doi.org/10.17226/10420.\n",
    "\n",
    "[1] BetterExplained, [An Intuitive (and Short) Explanation of Bayes’ Theorem](https://betterexplained.com/articles/an-intuitive-and-short-explanation-of-bayes-theorem/)\n",
    "\n",
    "[2] Countbayesie.com, [Han Solo and Bayesian Priors](https://www.countbayesie.com/blog/2015/2/18/hans-solo-and-bayesian-priors)\n",
    "\n",
    "[3] Wikipedia, [Base rate fallacy](https://en.wikipedia.org/wiki/Bayesian_inference)\n",
    "\n",
    "[4] Wikipedia, [Bayesian inference](https://en.wikipedia.org/wiki/Base_rate_fallacy)\n",
    "\n",
    "[4] Vera Wilde, [Refugee screening: a brief introduction (and a request for equipment)](http://www.scq.ubc.ca/refugee-screening-a-brief-introduction-and-a-request-for-equipment/)\n",
    "\n",
    "[5] OrShea, James, Keeley Crockett, Wasiq Khan, Philippos Kindynis, Athos Antoniades, and Georgios Boultadakis. 2018. ‘Intelligent Deception Detection through Machine Based Interviewing’. In 2018 International Joint Conference on Neural Networks (IJCNN), 1–8. Rio de Janeiro, Brazil: IEEE. https://doi.org/10.1109/IJCNN.2018.8489392.\n",
    "\n",
    "[6] Moliné, A., E. Dominguez, E. Salazar‐López, G. Gálvez‐García, J. Fernández‐Gómez, J. De la Fuente, O. Iborra, F. J. Tornay, and E. Gómez Milán. 2018. ‘The Mental Nose and the Pinocchio Effect: Thermography, Planning, Anxiety, and Lies’. Journal of Investigative Psychology and Offender Profiling 15 (2): 234–48. https://doi.org/10.1002/jip.1505.\n",
    "\n",
    "[7] ‘Científicos de La UGR Investigan El Denominado “Efecto Pinocho” | Canal UGR’. n.d. Accessed 3 June 2019. https://perma.cc/799W-364A.\n",
    "\n",
    "[8] Simcox, Robin. n.d. ‘The Asylum–Terror Nexus: How Europe Should Respond’, no. 3314: 12. https://www.heritage.org/sites/default/files/2018-06/BG3314.pdf\n",
    "\n",
    "[9] https://ec.europa.eu/eurostat/en/web/products-datasets/-/MIGR_ASYAPPCTZA\n",
    "\n",
    "[10] Positive and negative predictive values https://en.wikipedia.org/wiki/Positive_and_negative_predictive_values\n"
   ]
  }
 ],
 "metadata": {
  "kernelspec": {
   "display_name": "Python 3",
   "language": "python",
   "name": "python3"
  },
  "language_info": {
   "codemirror_mode": {
    "name": "ipython",
    "version": 3
   },
   "file_extension": ".py",
   "mimetype": "text/x-python",
   "name": "python",
   "nbconvert_exporter": "python",
   "pygments_lexer": "ipython3",
   "version": "3.6.3"
  },
  "toc": {
   "base_numbering": 1,
   "nav_menu": {},
   "number_sections": true,
   "sideBar": true,
   "skip_h1_title": false,
   "title_cell": "Table of Contents",
   "title_sidebar": "Contents",
   "toc_cell": false,
   "toc_position": {},
   "toc_section_display": true,
   "toc_window_display": false
  }
 },
 "nbformat": 4,
 "nbformat_minor": 2
}
